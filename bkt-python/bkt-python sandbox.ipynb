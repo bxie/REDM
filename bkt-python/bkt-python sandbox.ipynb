{
 "cells": [
  {
   "cell_type": "markdown",
   "metadata": {},
   "source": [
    "# Python implementation of Bayesian Knowledge Tracing (BKT)\n",
    "\n",
    "Benjamin Xie\n",
    "University of Washington\n",
    "bxie@uw.edu\n",
    "\n",
    "For Codeitz study\n",
    "\n",
    "Modifications to BKT:\n",
    "* KT-IDEM: Made guess and slip parameters part of item (not just part of skill/concept) so items are not homogenous (have \"difficulty\"). From Pardos & Heffernan 2011.\n",
    "* Sequencing algorithm: Using algorithm to select items. From David, Avi, & Ya'Akov 2016.\n",
    "\n",
    "## Terminology\n",
    "* item/exercise: unit representing a task which user does and gets scored. Each item maps to exactly _one_ concept. Each item has 2 parameters: slip and guess probabilities.\n",
    "* user: learner using Codeitz. A user attempts 0, 1, or many items. They have response data and probability of knowing a certain concept associated with them.\n",
    "* concept/skill: unit representing latent construct that user could learn. one or many items map to a concept. Each concept has 2 parameters: inital learning and transfer probabilities.\n",
    "\n",
    "## Notes\n",
    "* Code documentation roughly follow [NumPy style](https://sphinxcontrib-napoleon.readthedocs.io/en/latest/example_numpy.html)\n",
    "\n",
    "## References\n",
    "* David, Yossi Ben, Avi Segal, and Ya’akov (kobi) Gal. 2016. “Sequencing Educational Content in Classrooms Using Bayesian Knowledge Tracing.” In Proceedings of the Sixth International Conference on Learning Analytics & Knowledge, 354–63. ACM.\n",
    "* Pardos, Zachary A., and Neil T. Heffernan. 2011. “KT-IDEM: Introducing Item Difficulty to the Knowledge Tracing Model.” In User Modeling, Adaption and Personalization, 243–54. Springer Berlin Heidelberg."
   ]
  },
  {
   "cell_type": "code",
   "execution_count": 4,
   "metadata": {},
   "outputs": [],
   "source": [
    "import numpy as np\n",
    "import pandas as pd"
   ]
  },
  {
   "cell_type": "markdown",
   "metadata": {},
   "source": [
    "## Constants"
   ]
  },
  {
   "cell_type": "code",
   "execution_count": 75,
   "metadata": {},
   "outputs": [],
   "source": [
    "# params\n",
    "INIT = 'init'\n",
    "TRANSFER = 'trasfer'\n",
    "SLIP = 'slip'\n",
    "GUESS = 'guess'\n",
    "\n",
    "# concepts/skills\n",
    "VAR = 'variable'\n",
    "CONDITIONAL = 'conditional'\n",
    "\n",
    "# terms\n",
    "CONCEPT = 'concept'\n",
    "EID = \"eid\""
   ]
  },
  {
   "cell_type": "markdown",
   "metadata": {},
   "source": [
    "## Example Data"
   ]
  },
  {
   "cell_type": "code",
   "execution_count": 113,
   "metadata": {},
   "outputs": [
    {
     "name": "stdout",
     "output_type": "stream",
     "text": [
      "df_concepts\n",
      "       concept  init  trasfer\n",
      "0  conditional  0.05      0.3\n",
      "1     variable  0.20      0.4\n",
      "\n",
      "df_items\n",
      "          eid  slip  guess      concept\n",
      "0     if/else  0.20   0.05  conditional\n",
      "1   read vars  0.05   0.20     variable\n",
      "2  write vars  0.10   0.10     variable\n",
      "\n",
      "df_learn\n",
      "Empty DataFrame\n",
      "Columns: [uid, concept, step, known]\n",
      "Index: []\n",
      "\n",
      "df_opp\n",
      "    uid         eid  step  correct\n",
      "0  alex   read vars     1        0\n",
      "1   sam   read vars     1        1\n",
      "2   sam  write vars     2        0\n"
     ]
    }
   ],
   "source": [
    "# making example concepts\n",
    "c_init = pd.Series([0.05, 0.2])\n",
    "c_transfer = pd.Series([0.3, 0.4])\n",
    "c_concepts = pd.Series([CONDITIONAL, VAR])\n",
    "\n",
    "df_concepts = pd.DataFrame({CONCEPT: c_concepts, INIT:c_init, TRANSFER:c_transfer})\n",
    "print('df_concepts')\n",
    "print(df_concepts)\n",
    "\n",
    "# making example item (exercise)\n",
    "ex_ids = pd.Series(['if/else', 'read vars', 'write vars'])\n",
    "ex_slips = pd.Series([0.2, 0.05, 0.1])\n",
    "ex_guesses = pd.Series([0.05, 0.2, 0.1])\n",
    "ex_concepts = pd.Series([CONDITIONAL, VAR, VAR])\n",
    "\n",
    "# item 0 should be harder, 1 should be easier, 2 in the middle\n",
    "df_items = pd.DataFrame({EID: ex_ids, SLIP:ex_slips, GUESS:ex_guesses, CONCEPT:ex_concepts})\n",
    "print('\\ndf_items')\n",
    "print(df_items)\n",
    "\n",
    "# making example learned\n",
    "k_ids = pd.Series(['alex', 'sam'])\n",
    "df_learn = pd.DataFrame(columns=['uid', 'concept', 'step', 'known'])\n",
    "print('\\ndf_learn')\n",
    "print(df_learn)\n",
    "\n",
    "# making example responses\n",
    "opp_uids = pd.Series(['alex', 'sam', 'sam'])\n",
    "opp_eids = pd.Series(['read vars', 'read vars', 'write vars'])\n",
    "opp_step = pd.Series([1, 1, 2])\n",
    "opp_correct = pd.Series([0, 1, 0])\n",
    "\n",
    "df_opp = pd.DataFrame({'uid':opp_uids, 'eid': opp_eids, 'step': opp_step, 'correct': opp_correct})\n",
    "print('\\ndf_opp')\n",
    "print(df_opp) # TODO: add timestamp"
   ]
  },
  {
   "cell_type": "code",
   "execution_count": 124,
   "metadata": {},
   "outputs": [
    {
     "data": {
      "text/html": [
       "<div>\n",
       "<style scoped>\n",
       "    .dataframe tbody tr th:only-of-type {\n",
       "        vertical-align: middle;\n",
       "    }\n",
       "\n",
       "    .dataframe tbody tr th {\n",
       "        vertical-align: top;\n",
       "    }\n",
       "\n",
       "    .dataframe thead th {\n",
       "        text-align: right;\n",
       "    }\n",
       "</style>\n",
       "<table border=\"1\" class=\"dataframe\">\n",
       "  <thead>\n",
       "    <tr style=\"text-align: right;\">\n",
       "      <th></th>\n",
       "      <th>uid</th>\n",
       "      <th>concept</th>\n",
       "      <th>step</th>\n",
       "      <th>known</th>\n",
       "    </tr>\n",
       "  </thead>\n",
       "  <tbody>\n",
       "  </tbody>\n",
       "</table>\n",
       "</div>"
      ],
      "text/plain": [
       "Empty DataFrame\n",
       "Columns: [uid, concept, step, known]\n",
       "Index: []"
      ]
     },
     "execution_count": 124,
     "metadata": {},
     "output_type": "execute_result"
    }
   ],
   "source": [
    "df_concepts\n",
    "df_items\n",
    "df_opp\n",
    "df_learn"
   ]
  },
  {
   "cell_type": "markdown",
   "metadata": {},
   "source": [
    "## BKT functions w/ item difficulty"
   ]
  },
  {
   "cell_type": "code",
   "execution_count": 125,
   "metadata": {},
   "outputs": [],
   "source": [
    "# done! (I think)\n",
    "def posterior_pknown(is_correct, eid, transfer, item_params, prior_pknown):\n",
    "    \"\"\"\n",
    "    updates BKT estimate of learner knowledge\n",
    "    \n",
    "    Parameters\n",
    "    ----------\n",
    "    result: boolean\n",
    "        True if response was correct\n",
    "    eid: String\n",
    "        exercise ID\n",
    "    item_params: pd.DataFrame\n",
    "        slip and guess parameters for each item\n",
    "    prior_pknown: float\n",
    "        prior probability user learned this concept\n",
    "    \"\"\"\n",
    "    if not eid in item_params[EID].unique():\n",
    "        raise Exception('Given exercise ID not in response data. Return w/ no update. EID is {}'.format(eid))\n",
    "        return prior_pknown\n",
    "\n",
    "    posterior = -1.0\n",
    "    slip = item_params[item_params[EID] == eid][SLIP]\n",
    "    guess = item_params[item_params[EID] == eid][GUESS]\n",
    "    \n",
    "    if is_correct:\n",
    "        posterior = (prior_pknown * (1.0 - slip)) / ((prior_pknown * (1 - slip)) + ((1.0-prior_pknown)*guess))\n",
    "    else:\n",
    "        posterior = (prior_pknown * slip) / ((prior_pknown * slip) + ((1.0-prior_pknown)*(1.0-guess)))\n",
    "    \n",
    "    return (posterior + (1.0-posterior) * transfer)"
   ]
  },
  {
   "cell_type": "code",
   "execution_count": 74,
   "metadata": {},
   "outputs": [
    {
     "data": {
      "text/plain": [
       "1    2.2\n",
       "Name: init, dtype: float64"
      ]
     },
     "execution_count": 74,
     "metadata": {},
     "output_type": "execute_result"
    }
   ],
   "source": [
    "def pknown_seq(uid, concept, exercise_seq, df_opp, concept_params, item_params):\n",
    "    \"\"\"\n",
    "    predict sequence of probability a concept is known after each step\n",
    "    \"\"\"\n",
    "    # TODO: could filter to ensure all exercise_seq of same concept\n",
    "    \n",
    "    n_opps = len(exercise_seq)\n",
    "    pk = pd.Series(np.zeros(n_opps)+1)\n",
    "    pk[0] = concept_params[concept_params[CONCEPT] == concept][INIT]\n",
    "    if(n_opps > 0):\n",
    "        for(i in range(0:n_opps)):\n",
    "            p[i+1] = posterior_pknown(df_opp[df_opp['uid']==uid]) # TODO: fill in\n",
    "            print(-1) # TODO: remove"
   ]
  },
  {
   "cell_type": "markdown",
   "metadata": {},
   "source": [
    "## Sandbox"
   ]
  },
  {
   "cell_type": "code",
   "execution_count": 117,
   "metadata": {},
   "outputs": [
    {
     "data": {
      "text/html": [
       "<div>\n",
       "<style scoped>\n",
       "    .dataframe tbody tr th:only-of-type {\n",
       "        vertical-align: middle;\n",
       "    }\n",
       "\n",
       "    .dataframe tbody tr th {\n",
       "        vertical-align: top;\n",
       "    }\n",
       "\n",
       "    .dataframe thead th {\n",
       "        text-align: right;\n",
       "    }\n",
       "</style>\n",
       "<table border=\"1\" class=\"dataframe\">\n",
       "  <thead>\n",
       "    <tr style=\"text-align: right;\">\n",
       "      <th></th>\n",
       "      <th>uid</th>\n",
       "      <th>eid</th>\n",
       "      <th>step</th>\n",
       "      <th>correct</th>\n",
       "    </tr>\n",
       "  </thead>\n",
       "  <tbody>\n",
       "    <tr>\n",
       "      <th>0</th>\n",
       "      <td>alex</td>\n",
       "      <td>read vars</td>\n",
       "      <td>1</td>\n",
       "      <td>0</td>\n",
       "    </tr>\n",
       "    <tr>\n",
       "      <th>1</th>\n",
       "      <td>sam</td>\n",
       "      <td>read vars</td>\n",
       "      <td>1</td>\n",
       "      <td>1</td>\n",
       "    </tr>\n",
       "    <tr>\n",
       "      <th>2</th>\n",
       "      <td>sam</td>\n",
       "      <td>write vars</td>\n",
       "      <td>2</td>\n",
       "      <td>0</td>\n",
       "    </tr>\n",
       "  </tbody>\n",
       "</table>\n",
       "</div>"
      ],
      "text/plain": [
       "    uid         eid  step  correct\n",
       "0  alex   read vars     1        0\n",
       "1   sam   read vars     1        1\n",
       "2   sam  write vars     2        0"
      ]
     },
     "execution_count": 117,
     "metadata": {},
     "output_type": "execute_result"
    }
   ],
   "source": [
    "df_opp"
   ]
  },
  {
   "cell_type": "code",
   "execution_count": 100,
   "metadata": {},
   "outputs": [],
   "source": []
  },
  {
   "cell_type": "code",
   "execution_count": 108,
   "metadata": {},
   "outputs": [],
   "source": [
    "result = 0\n",
    "eid = 'read vars'\n",
    "transfer = df_concepts[df_concepts[CONCEPT]==VAR][TRANSFER]\n",
    "item_params = df_items\n",
    "prior_pknown = df_concepts[df_concepts[CONCEPT]==VAR][INIT]\n",
    "\n",
    "correct= result==1\n",
    "posterior = pd.Series(np.zeros(1))\n",
    "slip = item_params[item_params[EID] == eid][SLIP]\n",
    "guess = item_params[item_params[EID] == eid][GUESS]"
   ]
  },
  {
   "cell_type": "code",
   "execution_count": 111,
   "metadata": {},
   "outputs": [
    {
     "data": {
      "text/plain": [
       "1    0.5\n",
       "Name: trasfer, dtype: float64"
      ]
     },
     "execution_count": 111,
     "metadata": {},
     "output_type": "execute_result"
    }
   ],
   "source": [
    "transfer"
   ]
  },
  {
   "cell_type": "code",
   "execution_count": 132,
   "metadata": {},
   "outputs": [
    {
     "data": {
      "text/plain": [
       "1    0.424899\n",
       "dtype: float64"
      ]
     },
     "execution_count": 132,
     "metadata": {},
     "output_type": "execute_result"
    }
   ],
   "source": [
    "new_prior = posterior_pknown(0, 'read vars', df_concepts[df_concepts[CONCEPT]==VAR][TRANSFER], df_items, df_concepts[df_concepts[CONCEPT]==VAR][INIT])\n",
    "# new_prior_2 = posterior_pknown(0, 'read vars', df_concepts[df_concepts[CONCEPT]==VAR][TRANSFER], df_items, new_prior)\n",
    "# posterior_pknown(0, 'read vars', df_concepts[df_concepts[CONCEPT]==VAR][TRANSFER], df_items, new_prior_2)"
   ]
  },
  {
   "cell_type": "code",
   "execution_count": 116,
   "metadata": {},
   "outputs": [
    {
     "data": {
      "text/plain": [
       "True"
      ]
     },
     "execution_count": 116,
     "metadata": {},
     "output_type": "execute_result"
    }
   ],
   "source": [
    "eid in item_params[EID].unique()"
   ]
  },
  {
   "cell_type": "code",
   "execution_count": null,
   "metadata": {},
   "outputs": [],
   "source": []
  }
 ],
 "metadata": {
  "kernelspec": {
   "display_name": "Python 3",
   "language": "python",
   "name": "python3"
  },
  "language_info": {
   "codemirror_mode": {
    "name": "ipython",
    "version": 3
   },
   "file_extension": ".py",
   "mimetype": "text/x-python",
   "name": "python",
   "nbconvert_exporter": "python",
   "pygments_lexer": "ipython3",
   "version": "3.7.3"
  }
 },
 "nbformat": 4,
 "nbformat_minor": 2
}
